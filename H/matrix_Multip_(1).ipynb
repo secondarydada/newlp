{
  "nbformat": 4,
  "nbformat_minor": 0,
  "metadata": {
    "colab": {
      "provenance": [],
      "gpuType": "T4"
    },
    "kernelspec": {
      "name": "python3",
      "display_name": "Python 3"
    },
    "language_info": {
      "name": "python"
    },
    "accelerator": "GPU"
  },
  "cells": [
    {
      "cell_type": "code",
      "source": [
        "%%writefile matrix_mul.cu\n",
        "#include <iostream>\n",
        "#include <cuda_runtime.h>\n",
        "using namespace std;\n",
        "\n",
        "// CUDA kernel for matrix multiplication\n",
        "__global__ void matMul(int* A, int* B, int* C, int N) {\n",
        "    int row = threadIdx.y;\n",
        "    int col = threadIdx.x;\n",
        "    int sum = 0;\n",
        "    for (int i = 0; i < N; i++)\n",
        "        sum += A[row * N + i] * B[i * N + col];\n",
        "    C[row * N + col] = sum;\n",
        "}\n",
        "\n",
        "// Print matrix\n",
        "void print(const int* m, int N) {\n",
        "    for (int i = 0; i < N * N; i++) {\n",
        "        cout << m[i] << \" \";\n",
        "        if ((i + 1) % N == 0) cout << \"\\n\";\n",
        "    }\n",
        "    cout << \"\\n\";\n",
        "}\n",
        "\n",
        "int main() {\n",
        "    int N;\n",
        "    cout << \"Enter size of NxN matrix (e.g., 2 for 2x2): \";\n",
        "    cin >> N;\n",
        "\n",
        "    int size = N * N;\n",
        "    int bytes = size * sizeof(int);\n",
        "\n",
        "    int* A = new int[size];\n",
        "    int* B = new int[size];\n",
        "    int* C = new int[size];\n",
        "    int *dA, *dB, *dC;\n",
        "\n",
        "    // User input for matrix A\n",
        "    cout << \"Enter \" << size << \" elements for matrix A:\\n\";\n",
        "    for (int i = 0; i < size; i++) cin >> A[i];\n",
        "\n",
        "    // User input for matrix B\n",
        "    cout << \"Enter \" << size << \" elements for matrix B:\\n\";\n",
        "    for (int i = 0; i < size; i++) cin >> B[i];\n",
        "\n",
        "    // Allocate device memory\n",
        "    cudaMalloc(&dA, bytes);\n",
        "    cudaMalloc(&dB, bytes);\n",
        "    cudaMalloc(&dC, bytes);\n",
        "\n",
        "    // Copy data to device\n",
        "    cudaMemcpy(dA, A, bytes, cudaMemcpyHostToDevice);\n",
        "    cudaMemcpy(dB, B, bytes, cudaMemcpyHostToDevice);\n",
        "\n",
        "    // Launch kernel\n",
        "    matMul<<<1, dim3(N, N)>>>(dA, dB, dC, N);\n",
        "\n",
        "    // Copy result back\n",
        "    cudaMemcpy(C, dC, bytes, cudaMemcpyDeviceToHost);\n",
        "\n",
        "    // Display results\n",
        "    cout << \"Matrix A:\\n\"; print(A, N);\n",
        "    cout << \"Matrix B:\\n\"; print(B, N);\n",
        "    cout << \"Matrix A x B:\\n\"; print(C, N);\n",
        "\n",
        "    // Free memory\n",
        "    cudaFree(dA); cudaFree(dB); cudaFree(dC);\n",
        "    delete[] A; delete[] B; delete[] C;\n",
        "\n",
        "    return 0;\n",
        "}\n"
      ],
      "metadata": {
        "colab": {
          "base_uri": "https://localhost:8080/"
        },
        "id": "b6utEtxqUyLK",
        "outputId": "0d919d5c-f601-49b6-e7ca-ff035a58b322"
      },
      "execution_count": 1,
      "outputs": [
        {
          "output_type": "stream",
          "name": "stdout",
          "text": [
            "Writing matrix_mul.cu\n"
          ]
        }
      ]
    },
    {
      "cell_type": "code",
      "source": [
        "!nvcc -arch=sm_75 matrix_mul.cu -o matrix_mul\n",
        "!./matrix_mul\n"
      ],
      "metadata": {
        "colab": {
          "base_uri": "https://localhost:8080/"
        },
        "id": "12S5cGeZU6uD",
        "outputId": "6f82b224-4f21-4d4e-a1f7-1ef84510d778"
      },
      "execution_count": 3,
      "outputs": [
        {
          "output_type": "stream",
          "name": "stdout",
          "text": [
            "Enter size of NxN matrix (e.g., 2 for 2x2): 3\n",
            "Enter 9 elements for matrix A:\n",
            "4 6 3 2 1 8 9 9 2\n",
            "Enter 9 elements for matrix B:\n",
            "9 7 8 2 3 6 1 4 2\n",
            "Matrix A:\n",
            "4 6 3 \n",
            "2 1 8 \n",
            "9 9 2 \n",
            "\n",
            "Matrix B:\n",
            "9 7 8 \n",
            "2 3 6 \n",
            "1 4 2 \n",
            "\n",
            "Matrix A x B:\n",
            "51 58 74 \n",
            "28 49 38 \n",
            "101 98 130 \n",
            "\n"
          ]
        }
      ]
    }
  ]
}
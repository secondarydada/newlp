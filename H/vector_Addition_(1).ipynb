{
  "nbformat": 4,
  "nbformat_minor": 0,
  "metadata": {
    "colab": {
      "provenance": [],
      "gpuType": "T4"
    },
    "kernelspec": {
      "name": "python3",
      "display_name": "Python 3"
    },
    "language_info": {
      "name": "python"
    },
    "accelerator": "GPU"
  },
  "cells": [
    {
      "cell_type": "code",
      "source": [
        "%%writefile vector_addition.cu\n",
        "#include <iostream>\n",
        "#include <cuda_runtime.h>\n",
        "using namespace std;\n",
        "\n",
        "// CUDA kernel: adds A[i] + B[i] and stores in C[i]\n",
        "__global__ void add(int* A, int* B, int* C, int N) {\n",
        "    int i = threadIdx.x;\n",
        "    if (i < N) C[i] = A[i] + B[i];\n",
        "}\n",
        "\n",
        "// Print array\n",
        "void print(const int* arr, int N) {\n",
        "    for (int i = 0; i < N; i++) cout << arr[i] << \" \";\n",
        "    cout << \"\\n\";\n",
        "}\n",
        "\n",
        "int main() {\n",
        "    int N;\n",
        "    cout << \"Enter the number of elements: \";\n",
        "    cin >> N;\n",
        "\n",
        "    int* A = new int[N];\n",
        "    int* B = new int[N];\n",
        "    int* C = new int[N];\n",
        "\n",
        "    cout << \"Enter \" << N << \" elements for array A: \";\n",
        "    for (int i = 0; i < N; i++) cin >> A[i];\n",
        "\n",
        "    cout << \"Enter \" << N << \" elements for array B: \";\n",
        "    for (int i = 0; i < N; i++) cin >> B[i];\n",
        "\n",
        "    int *dA, *dB, *dC;\n",
        "    size_t size = N * sizeof(int);\n",
        "\n",
        "    cudaMalloc(&dA, size);\n",
        "    cudaMalloc(&dB, size);\n",
        "    cudaMalloc(&dC, size);\n",
        "\n",
        "    cudaMemcpy(dA, A, size, cudaMemcpyHostToDevice);\n",
        "    cudaMemcpy(dB, B, size, cudaMemcpyHostToDevice);\n",
        "\n",
        "    add<<<1, N>>>(dA, dB, dC, N);\n",
        "\n",
        "    cudaMemcpy(C, dC, size, cudaMemcpyDeviceToHost);\n",
        "\n",
        "    cout << \"A + B = \";\n",
        "    print(C, N);\n",
        "\n",
        "    cudaFree(dA);\n",
        "    cudaFree(dB);\n",
        "    cudaFree(dC);\n",
        "    delete[] A;\n",
        "    delete[] B;\n",
        "    delete[] C;\n",
        "\n",
        "    return 0;\n",
        "}\n"
      ],
      "metadata": {
        "colab": {
          "base_uri": "https://localhost:8080/"
        },
        "id": "ZlIy3TzjdXx9",
        "outputId": "b0b0a59c-e090-48ce-f447-aa24b894d476"
      },
      "execution_count": 3,
      "outputs": [
        {
          "output_type": "stream",
          "name": "stdout",
          "text": [
            "Overwriting vector_addition.cu\n"
          ]
        }
      ]
    },
    {
      "cell_type": "code",
      "source": [
        "!nvcc -arch=sm_75 vector_addition.cu -o vector_addition\n",
        "!./vector_addition\n"
      ],
      "metadata": {
        "colab": {
          "base_uri": "https://localhost:8080/"
        },
        "id": "dFfbN_2cdhAH",
        "outputId": "f83a8c3a-1b32-4c04-e66c-1e9aa36c20d1"
      },
      "execution_count": 4,
      "outputs": [
        {
          "output_type": "stream",
          "name": "stdout",
          "text": [
            "Enter the number of elements: 4\n",
            "Enter 4 elements for array A: 4 7 2 6\n",
            "Enter 4 elements for array B: 3 2 1 8\n",
            "A + B = 7 9 3 14 \n"
          ]
        }
      ]
    }
  ]
}